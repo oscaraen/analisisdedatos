{
 "cells": [
  {
   "cell_type": "markdown",
   "source": [
    "# Secuencia de procesamiento de ETL\n",
    "\n",
    "En este cuaderno se detalla el paso a paso del ETL que se va a implementar. El ejercicio consiste en crear un pipeline simple que relaciona datos de dos fuentes diferentes. Para el ejemplo se emplean los datos de los archivos `Countries.csv` y `Countries_metadata.csv`.\n",
    "Se crearán tres pasos (extraer, transformar y cargar)\n",
    "\n",
    "En este cuaderno, los datos se leen desde los archivos .csv y se guarda el resultado como un archivo .csv también. Sin embargo, la idea del ETL se explora a profundidad en el script `etl_process.py` en donde los datos de salida se escriben en una base de datos."
   ],
   "metadata": {
    "collapsed": false
   }
  },
  {
   "cell_type": "markdown",
   "source": [
    "## 1. Extracción de datos\n",
    "\n",
    "En el primer paso se extraen los datos desde el archivo en formato CSV. Si bien es un paso sencillo, ya que pandas permite la lectura de un CSV, no siempre en un ETL la fase de extracción es sencilla. Por ejemplo, los datos pueden estar alojados en un servidor 'on premises', en una base de datos, en un datalake o data warehouse. Pueden estar distribuidos en archivos de diferentes formatos, y muchas otras formas de donde se deben sacar los datos"
   ],
   "metadata": {
    "collapsed": false
   }
  },
  {
   "cell_type": "code",
   "execution_count": 2,
   "outputs": [
    {
     "data": {
      "text/plain": "  Countries  Population\n0   Austria     9006398\n1   Bolivia    11673021\n2     China  1439323776\n3   Denmark     5792202\n4     Egypt   102334404",
      "text/html": "<div>\n<style scoped>\n    .dataframe tbody tr th:only-of-type {\n        vertical-align: middle;\n    }\n\n    .dataframe tbody tr th {\n        vertical-align: top;\n    }\n\n    .dataframe thead th {\n        text-align: right;\n    }\n</style>\n<table border=\"1\" class=\"dataframe\">\n  <thead>\n    <tr style=\"text-align: right;\">\n      <th></th>\n      <th>Countries</th>\n      <th>Population</th>\n    </tr>\n  </thead>\n  <tbody>\n    <tr>\n      <th>0</th>\n      <td>Austria</td>\n      <td>9006398</td>\n    </tr>\n    <tr>\n      <th>1</th>\n      <td>Bolivia</td>\n      <td>11673021</td>\n    </tr>\n    <tr>\n      <th>2</th>\n      <td>China</td>\n      <td>1439323776</td>\n    </tr>\n    <tr>\n      <th>3</th>\n      <td>Denmark</td>\n      <td>5792202</td>\n    </tr>\n    <tr>\n      <th>4</th>\n      <td>Egypt</td>\n      <td>102334404</td>\n    </tr>\n  </tbody>\n</table>\n</div>"
     },
     "execution_count": 2,
     "metadata": {},
     "output_type": "execute_result"
    }
   ],
   "source": [
    "import pandas as pd\n",
    "\n",
    "\n",
    "countries = pd.read_csv(\"dataset/countries.csv\")\n",
    "countries.head()"
   ],
   "metadata": {
    "collapsed": false,
    "ExecuteTime": {
     "end_time": "2024-03-23T04:16:21.079194400Z",
     "start_time": "2024-03-23T04:16:21.058264800Z"
    }
   }
  },
  {
   "cell_type": "code",
   "execution_count": 3,
   "outputs": [
    {
     "data": {
      "text/plain": "  country_names  Land_Area  Region\n0        Greece     128900  Europe\n1         China    9388211    Asia\n2       Denmark      42430  Europe\n3      Ethiopia    1000000  Africa\n4         Egypt     995450  Africa",
      "text/html": "<div>\n<style scoped>\n    .dataframe tbody tr th:only-of-type {\n        vertical-align: middle;\n    }\n\n    .dataframe tbody tr th {\n        vertical-align: top;\n    }\n\n    .dataframe thead th {\n        text-align: right;\n    }\n</style>\n<table border=\"1\" class=\"dataframe\">\n  <thead>\n    <tr style=\"text-align: right;\">\n      <th></th>\n      <th>country_names</th>\n      <th>Land_Area</th>\n      <th>Region</th>\n    </tr>\n  </thead>\n  <tbody>\n    <tr>\n      <th>0</th>\n      <td>Greece</td>\n      <td>128900</td>\n      <td>Europe</td>\n    </tr>\n    <tr>\n      <th>1</th>\n      <td>China</td>\n      <td>9388211</td>\n      <td>Asia</td>\n    </tr>\n    <tr>\n      <th>2</th>\n      <td>Denmark</td>\n      <td>42430</td>\n      <td>Europe</td>\n    </tr>\n    <tr>\n      <th>3</th>\n      <td>Ethiopia</td>\n      <td>1000000</td>\n      <td>Africa</td>\n    </tr>\n    <tr>\n      <th>4</th>\n      <td>Egypt</td>\n      <td>995450</td>\n      <td>Africa</td>\n    </tr>\n  </tbody>\n</table>\n</div>"
     },
     "execution_count": 3,
     "metadata": {},
     "output_type": "execute_result"
    }
   ],
   "source": [
    "countries_metadata = pd.read_csv(\"dataset/Countries_metadata.csv\")\n",
    "countries_metadata.head()"
   ],
   "metadata": {
    "collapsed": false,
    "ExecuteTime": {
     "end_time": "2024-03-23T04:16:44.817284100Z",
     "start_time": "2024-03-23T04:16:44.806053700Z"
    }
   }
  },
  {
   "cell_type": "markdown",
   "source": [
    "## 2. Transformación de los datos\n",
    "\n",
    "En este paso se harán algunas transformaciones a ambos conjuntos de datos. En la etapa de transformación se deben hacer tantas operaciones como se requieran para procesar la información y entregarla como requieran las reglas de negocio"
   ],
   "metadata": {
    "collapsed": false
   }
  },
  {
   "cell_type": "code",
   "execution_count": 4,
   "outputs": [
    {
     "data": {
      "text/plain": "  Countries  Population_per_k\n0   Austria          9006.398\n1   Bolivia         11673.021\n2     China       1439323.776\n3   Denmark          5792.202\n4     Egypt        102334.404\n5  Ethiopia        114963.588\n6   Finland          5540.720\n7    France         65273.511\n8   Germany         83783.942\n9    Greece         10423.054",
      "text/html": "<div>\n<style scoped>\n    .dataframe tbody tr th:only-of-type {\n        vertical-align: middle;\n    }\n\n    .dataframe tbody tr th {\n        vertical-align: top;\n    }\n\n    .dataframe thead th {\n        text-align: right;\n    }\n</style>\n<table border=\"1\" class=\"dataframe\">\n  <thead>\n    <tr style=\"text-align: right;\">\n      <th></th>\n      <th>Countries</th>\n      <th>Population_per_k</th>\n    </tr>\n  </thead>\n  <tbody>\n    <tr>\n      <th>0</th>\n      <td>Austria</td>\n      <td>9006.398</td>\n    </tr>\n    <tr>\n      <th>1</th>\n      <td>Bolivia</td>\n      <td>11673.021</td>\n    </tr>\n    <tr>\n      <th>2</th>\n      <td>China</td>\n      <td>1439323.776</td>\n    </tr>\n    <tr>\n      <th>3</th>\n      <td>Denmark</td>\n      <td>5792.202</td>\n    </tr>\n    <tr>\n      <th>4</th>\n      <td>Egypt</td>\n      <td>102334.404</td>\n    </tr>\n    <tr>\n      <th>5</th>\n      <td>Ethiopia</td>\n      <td>114963.588</td>\n    </tr>\n    <tr>\n      <th>6</th>\n      <td>Finland</td>\n      <td>5540.720</td>\n    </tr>\n    <tr>\n      <th>7</th>\n      <td>France</td>\n      <td>65273.511</td>\n    </tr>\n    <tr>\n      <th>8</th>\n      <td>Germany</td>\n      <td>83783.942</td>\n    </tr>\n    <tr>\n      <th>9</th>\n      <td>Greece</td>\n      <td>10423.054</td>\n    </tr>\n  </tbody>\n</table>\n</div>"
     },
     "execution_count": 4,
     "metadata": {},
     "output_type": "execute_result"
    }
   ],
   "source": [
    "countries[\"Population\" ] = countries[\"Population\"] / 1000\n",
    "countries = countries.rename(columns={'Population':'Population_per_k'})\n",
    "countries"
   ],
   "metadata": {
    "collapsed": false,
    "ExecuteTime": {
     "end_time": "2024-03-23T04:18:38.439715600Z",
     "start_time": "2024-03-23T04:18:38.423771600Z"
    }
   }
  },
  {
   "cell_type": "code",
   "execution_count": 5,
   "outputs": [
    {
     "data": {
      "text/plain": "  country_names  Land_Area_per_k         Region\n0        Greece          128.900         Europe\n1         China         9388.211           Asia\n2       Denmark           42.430         Europe\n3      Ethiopia         1000.000         Africa\n4         Egypt          995.450         Africa\n5       Bolivia         1083.300  South America\n6       Austria           82.409         Europe\n7        France          547.557         Europe\n8       Germany          348.560         Europe\n9       Finland          303.890         Europe",
      "text/html": "<div>\n<style scoped>\n    .dataframe tbody tr th:only-of-type {\n        vertical-align: middle;\n    }\n\n    .dataframe tbody tr th {\n        vertical-align: top;\n    }\n\n    .dataframe thead th {\n        text-align: right;\n    }\n</style>\n<table border=\"1\" class=\"dataframe\">\n  <thead>\n    <tr style=\"text-align: right;\">\n      <th></th>\n      <th>country_names</th>\n      <th>Land_Area_per_k</th>\n      <th>Region</th>\n    </tr>\n  </thead>\n  <tbody>\n    <tr>\n      <th>0</th>\n      <td>Greece</td>\n      <td>128.900</td>\n      <td>Europe</td>\n    </tr>\n    <tr>\n      <th>1</th>\n      <td>China</td>\n      <td>9388.211</td>\n      <td>Asia</td>\n    </tr>\n    <tr>\n      <th>2</th>\n      <td>Denmark</td>\n      <td>42.430</td>\n      <td>Europe</td>\n    </tr>\n    <tr>\n      <th>3</th>\n      <td>Ethiopia</td>\n      <td>1000.000</td>\n      <td>Africa</td>\n    </tr>\n    <tr>\n      <th>4</th>\n      <td>Egypt</td>\n      <td>995.450</td>\n      <td>Africa</td>\n    </tr>\n    <tr>\n      <th>5</th>\n      <td>Bolivia</td>\n      <td>1083.300</td>\n      <td>South America</td>\n    </tr>\n    <tr>\n      <th>6</th>\n      <td>Austria</td>\n      <td>82.409</td>\n      <td>Europe</td>\n    </tr>\n    <tr>\n      <th>7</th>\n      <td>France</td>\n      <td>547.557</td>\n      <td>Europe</td>\n    </tr>\n    <tr>\n      <th>8</th>\n      <td>Germany</td>\n      <td>348.560</td>\n      <td>Europe</td>\n    </tr>\n    <tr>\n      <th>9</th>\n      <td>Finland</td>\n      <td>303.890</td>\n      <td>Europe</td>\n    </tr>\n  </tbody>\n</table>\n</div>"
     },
     "execution_count": 5,
     "metadata": {},
     "output_type": "execute_result"
    }
   ],
   "source": [
    "countries_metadata['Land_Area'] = countries_metadata['Land_Area']/1000\n",
    "countries_metadata = countries_metadata.rename(columns={'Land_Area':'Land_Area_per_k'})\n",
    "countries_metadata"
   ],
   "metadata": {
    "collapsed": false,
    "ExecuteTime": {
     "end_time": "2024-03-23T04:18:45.668661400Z",
     "start_time": "2024-03-23T04:18:45.656482100Z"
    }
   }
  },
  {
   "cell_type": "markdown",
   "source": [
    "## 3. Fase de carga\n",
    "En la fase de carga se entregan los archivos preprocesados al destino. Si bien en el destino se tiene un csv que es fácil de manipular gracias a pandas. El destino puede ser una base de datos relacional ( o no relacional) puede ser un datalake, un data warehouse, o cualquier otro medio de almacenamieto de datos"
   ],
   "metadata": {
    "collapsed": false
   }
  },
  {
   "cell_type": "code",
   "execution_count": 7,
   "outputs": [],
   "source": [
    "countries.to_csv('dataset/output/countries.csv')\n",
    "countries_metadata.to_csv('dataset/output//countries_metadata.csv')"
   ],
   "metadata": {
    "collapsed": false,
    "ExecuteTime": {
     "end_time": "2024-03-23T04:20:50.561069200Z",
     "start_time": "2024-03-23T04:20:50.533393800Z"
    }
   }
  }
 ],
 "metadata": {
  "kernelspec": {
   "display_name": "Python 3",
   "language": "python",
   "name": "python3"
  },
  "language_info": {
   "codemirror_mode": {
    "name": "ipython",
    "version": 2
   },
   "file_extension": ".py",
   "mimetype": "text/x-python",
   "name": "python",
   "nbconvert_exporter": "python",
   "pygments_lexer": "ipython2",
   "version": "2.7.6"
  }
 },
 "nbformat": 4,
 "nbformat_minor": 0
}
