{
 "cells": [
  {
   "cell_type": "code",
   "execution_count": 3,
   "metadata": {},
   "outputs": [
    {
     "name": "stdout",
     "output_type": "stream",
     "text": [
      "Defaulting to user installation because normal site-packages is not writeable\n",
      "Collecting tabulate\n",
      "  Downloading tabulate-0.9.0-py3-none-any.whl (35 kB)\n",
      "Installing collected packages: tabulate\n",
      "Successfully installed tabulate-0.9.0\n"
     ]
    }
   ],
   "source": [
    "!pip install tabulate\n"
   ]
  },
  {
   "cell_type": "code",
   "execution_count": 6,
   "metadata": {},
   "outputs": [
    {
     "name": "stdout",
     "output_type": "stream",
     "text": [
      "+----------------------------------------------------------+-----------------------------------------------------------+\n",
      "| Comentario Original                                      | Comentario Lematizado                                     |\n",
      "+==========================================================+===========================================================+\n",
      "| Los zapatos son muy cómodos y bonitos.                   | Los zapatos son muy cómodos y bonito .                    |\n",
      "+----------------------------------------------------------+-----------------------------------------------------------+\n",
      "| La calidad de la tela de la camisa es excelente.         | La calidad de la tela de la camisa e excelente .          |\n",
      "+----------------------------------------------------------+-----------------------------------------------------------+\n",
      "| No estoy satisfecho con el tamaño del bolso.             | No estoy satisfecho con el tamaño del bolso .             |\n",
      "+----------------------------------------------------------+-----------------------------------------------------------+\n",
      "| Los productos de esta tienda son geniales.               | Los productos de esta tienda son geniales .               |\n",
      "+----------------------------------------------------------+-----------------------------------------------------------+\n",
      "| El color de la blusa no coincide con la imagen en línea. | El color de la blusa no coincide con la imagen en línea . |\n",
      "+----------------------------------------------------------+-----------------------------------------------------------+\n"
     ]
    },
    {
     "name": "stderr",
     "output_type": "stream",
     "text": [
      "[nltk_data] Downloading package punkt to /home/kdo/nltk_data...\n",
      "[nltk_data]   Package punkt is already up-to-date!\n",
      "[nltk_data] Downloading package wordnet to /home/kdo/nltk_data...\n",
      "[nltk_data]   Package wordnet is already up-to-date!\n"
     ]
    }
   ],
   "source": [
    "import nltk\n",
    "from nltk.tokenize import word_tokenize\n",
    "from nltk.stem import WordNetLemmatizer\n",
    "from tabulate import tabulate\n",
    "\n",
    "# Descargar recursos necesarios de NLTK\n",
    "nltk.download('punkt')\n",
    "nltk.download('wordnet')\n",
    "\n",
    "# Conjunto de comentarios de los clientes\n",
    "comentarios = [\n",
    "    \"Los zapatos son muy cómodos y bonitos.\",\n",
    "    \"La calidad de la tela de la camisa es excelente.\",\n",
    "    \"No estoy satisfecho con el tamaño del bolso.\",\n",
    "    \"Los productos de esta tienda son geniales.\",\n",
    "    \"El color de la blusa no coincide con la imagen en línea.\"\n",
    "]\n",
    "\n",
    "# Inicializar el lematizador de palabras\n",
    "lemmatizador = WordNetLemmatizer()\n",
    "\n",
    "# Tokenizar cada comentario y lematizar las palabras\n",
    "tabla_datos = []\n",
    "for comentario in comentarios:\n",
    "    tokens = word_tokenize(comentario)\n",
    "    lematizados = [lemmatizador.lemmatize(token) for token in tokens]\n",
    "    tabla_datos.append([comentario, \" \".join(lematizados)])\n",
    "\n",
    "# Imprimir tabla con comentarios originales y lematizados\n",
    "print(tabulate(tabla_datos, headers=['Comentario Original', 'Comentario Lematizado'], tablefmt='grid'))\n"
   ]
  },
  {
   "cell_type": "code",
   "execution_count": 2,
   "metadata": {},
   "outputs": [
    {
     "name": "stderr",
     "output_type": "stream",
     "text": [
      "[nltk_data] Downloading package punkt to /home/kdo/nltk_data...\n",
      "[nltk_data]   Package punkt is already up-to-date!\n",
      "[nltk_data] Downloading package wordnet to /home/kdo/nltk_data...\n",
      "[nltk_data]   Package wordnet is already up-to-date!\n"
     ]
    },
    {
     "name": "stdout",
     "output_type": "stream",
     "text": [
      "                                           review_en  \\\n",
      "0  One of the other reviewers has mentioned that ...   \n",
      "1  A wonderful little production. The filming tec...   \n",
      "2  I thought this was a wonderful way to spend ti...   \n",
      "\n",
      "                                   lemmatized_review  \n",
      "0  One of the other reviewer ha mentioned that af...  \n",
      "1  A wonderful little production . The filming te...  \n",
      "2  I thought this wa a wonderful way to spend tim...  \n"
     ]
    }
   ],
   "source": [
    "import pandas as pd\n",
    "from nltk.tokenize import word_tokenize\n",
    "from nltk.stem import WordNetLemmatizer\n",
    "\n",
    "# Descargar recursos necesarios de NLTK\n",
    "nltk.download('punkt')\n",
    "nltk.download('wordnet')\n",
    "\n",
    "# Crear un DataFrame con los datos de las reseñas\n",
    "data = {\n",
    "    'review_en': [\n",
    "        \"One of the other reviewers has mentioned that after watching just 1 Oz episode you'll be hooked...\",\n",
    "        \"A wonderful little production. The filming technique is very unassuming...\",\n",
    "        \"I thought this was a wonderful way to spend time on a too hot summer weekend, sitting in the air conditioned theater...\"\n",
    "        # Agrega más reseñas aquí si es necesario\n",
    "    ]\n",
    "}\n",
    "df = pd.DataFrame(data)\n",
    "\n",
    "# Inicializar el lematizador de palabras\n",
    "lemmatizer = WordNetLemmatizer()\n",
    "\n",
    "# Función para lematizar texto\n",
    "def lemmatize_text(text):\n",
    "    tokens = word_tokenize(text)\n",
    "    lemmatized_tokens = [lemmatizer.lemmatize(token) for token in tokens]\n",
    "    return ' '.join(lemmatized_tokens)\n",
    "\n",
    "# Aplicar lematización a la columna de reseñas\n",
    "df['lemmatized_review'] = df['review_en'].apply(lemmatize_text)\n",
    "\n",
    "# Mostrar las primeras filas del DataFrame con las reseñas lematizadas\n",
    "print(df[['review_en', 'lemmatized_review']].head())\n"
   ]
  }
 ],
 "metadata": {
  "kernelspec": {
   "display_name": "Python 3",
   "language": "python",
   "name": "python3"
  },
  "language_info": {
   "codemirror_mode": {
    "name": "ipython",
    "version": 3
   },
   "file_extension": ".py",
   "mimetype": "text/x-python",
   "name": "python",
   "nbconvert_exporter": "python",
   "pygments_lexer": "ipython3",
   "version": "3.10.12"
  }
 },
 "nbformat": 4,
 "nbformat_minor": 2
}
