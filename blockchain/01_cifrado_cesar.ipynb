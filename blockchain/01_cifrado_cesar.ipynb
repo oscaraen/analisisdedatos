{
 "cells": [
  {
   "cell_type": "markdown",
   "source": [
    "# Algoritmo de cifrado César\n",
    "\n",
    "Este algoritmo se engarga de cifrar un mensaje mediante un desplazamiento dado un número de posiciones en el alfabeto. Al conocer el desplazamiento, se susituyen todos los caracteres hacia la derecha para codificar un mensaje. Para decodificarlo, se hace la sustitución de forma invertida."
   ],
   "metadata": {
    "collapsed": false
   }
  },
  {
   "cell_type": "markdown",
   "source": [
    "## 1. funciones utilitarias y variables\n",
    "- variable alfabeto: contiene los caracteres del idioma español, en minúsculas y si acentos\n",
    "- función rotar alfabeto: permite desplazar el alfabeto N posiciones y retorna un string con el nuevo alfabeto\n",
    "- función normalizar: permite eliminar tildes, acentos y mayúsculas del alfabeto para codificar el mensaje\n",
    "- función encriptar_cesar: Utilizando el alfabeto desplazado y el texto se encarga de normalizar y sustituir los caracteres. Retorna el mensaje codificado"
   ],
   "metadata": {
    "collapsed": false
   }
  },
  {
   "cell_type": "code",
   "execution_count": 46,
   "outputs": [],
   "source": [
    "# variable con el alfabeto\n",
    "alfabeto = \"abcdefghijklmnñopqrstuvwxyz\"\n",
    "\n",
    "def rotar_alfabeto(numero: int) -> str:\n",
    "    \"\"\"\n",
    "    Función para realizar la rotación del alfabeto de entrada, require definida la variable alfabeto\n",
    "    Se valida que el número sea mayor a cero (que haya rotación) también se codifica el caso donde el número\n",
    "    puede ser inferior a cero para desplazar en sentido contrario y decodificar un mensaje\n",
    "    :param numero:cantidad de desplazamientos que tendrá el alfabeto\n",
    "    :return: string con el alfabeto desplazado\n",
    "    \"\"\"\n",
    "    if numero > 0:\n",
    "        numero = numero % len(alfabeto)\n",
    "        primera_parte = alfabeto[0:numero]\n",
    "        segunda_parte = alfabeto[numero:]\n",
    "        return segunda_parte+primera_parte\n",
    "    else:\n",
    "        primera_parte = alfabeto[0:len(alfabeto)+numero]\n",
    "        segunda_parte = alfabeto[len(alfabeto)+numero:]\n",
    "        return primera_parte  + segunda_parte\n",
    "\n",
    "\n",
    "def normalizar_texto(texto: str) ->str:\n",
    "    \"\"\"\n",
    "    Como se trabajará con solo minúsculas sin acentos, esta función se encarga de\n",
    "    sustituir las mayúsculas por minúsculas y las letras con tildes por letras sin acentos\n",
    "    :param texto: Cadena de texto de entrad\n",
    "    :return:\n",
    "    \"\"\"\n",
    "    reemplazo_tildes = {'Á':'A','É':'E','Í':'I','Ó':'O','Ú':'U','á':'a','é':'e','í':'i','ó':'o','ú':'u'}\n",
    "    texto = texto.lower() # pasa a minusculas.\n",
    "    ltexto = list(texto)  # pasa a lista\n",
    "    for i in range(len(ltexto)):\n",
    "        if ltexto[i] in reemplazo_tildes.keys():\n",
    "            ltexto[i] = reemplazo_tildes[ltexto[i]] #reemplaza letra por sin tilde\n",
    "    return ''.join(ltexto)\n",
    "\n"
   ],
   "metadata": {
    "collapsed": false,
    "ExecuteTime": {
     "end_time": "2024-02-16T13:59:30.837353600Z",
     "start_time": "2024-02-16T13:59:30.830794600Z"
    }
   }
  },
  {
   "cell_type": "code",
   "execution_count": 47,
   "outputs": [
    {
     "name": "stdout",
     "output_type": "stream",
     "text": [
      "este es un texto de ejemplo. puede tener mayusculas, minusculas, letras con acentos y minusculas con acentos\n"
     ]
    }
   ],
   "source": [
    "# prueba de las funciones\n",
    "texto_de_prueba = \"Este es un texto de ejemplo. puede tener MAYUSCULAS, minusculas, LÉTRÁS CÓN ÁCÉNTÓS y minúsculas con acentos\"\n",
    "print(normalizar_texto(texto_de_prueba))"
   ],
   "metadata": {
    "collapsed": false,
    "ExecuteTime": {
     "end_time": "2024-02-16T13:59:31.036190100Z",
     "start_time": "2024-02-16T13:59:31.025534800Z"
    }
   }
  },
  {
   "cell_type": "code",
   "execution_count": 48,
   "outputs": [
    {
     "name": "stdout",
     "output_type": "stream",
     "text": [
      "El texto encriptado en cesar con 3 desplazamientos es: \n",
      "hvwh hv xp whawr gh hmhosñr. sxhgh whphu odbxvfxñdv, olpxvfxñdv, ñhwudv frp dfhpwrv b olpxvfxñdv frp dfhpwrv\n"
     ]
    }
   ],
   "source": [
    "# Función de encriptación\n",
    "def encriptar_cesar(texto: str, desplazamientos: int) -> str:\n",
    "    #1. crear el mapeo\n",
    "    desplazado = rotar_alfabeto(desplazamientos)\n",
    "    diccMapeo = {}\n",
    "    for i in range(len(alfabeto)):\n",
    "        diccMapeo[alfabeto[i]] = desplazado[i] # del string crea el diccionario.\n",
    "    msgEncriptado = []\n",
    "    texto = normalizar_texto(texto)  # normaliza\n",
    "    for letra in texto:\n",
    "        if letra in diccMapeo.keys():\n",
    "            msgEncriptado.append(diccMapeo[letra])\n",
    "        else:\n",
    "            msgEncriptado.append(letra)\n",
    "    return ''.join(msgEncriptado)\n",
    "\n",
    "desplazamientos = 3\n",
    "texto_encriptado = encriptar_cesar(texto_de_prueba, desplazamientos)\n",
    "print(f\"El texto encriptado en cesar con {desplazamientos} desplazamientos es: \\n{texto_encriptado}\")"
   ],
   "metadata": {
    "collapsed": false,
    "ExecuteTime": {
     "end_time": "2024-02-16T13:59:31.224048400Z",
     "start_time": "2024-02-16T13:59:31.209469400Z"
    }
   }
  },
  {
   "cell_type": "code",
   "execution_count": 49,
   "outputs": [
    {
     "name": "stdout",
     "output_type": "stream",
     "text": [
      "este es un texto de ejemplo. puede tener mayusculas, minusculas, letras con acentos y minusculas con acentos\n"
     ]
    }
   ],
   "source": [
    "# para desencriptar se puede usar la misma función de encriptado, utilizando las rotaciones invertidas (longitud_alfabeto - clave de cifrado)\n",
    "longitud_alfabeto = 27\n",
    "texto_desencriptado = encriptar_cesar(texto_encriptado,  longitud_alfabeto - desplazamientos)\n",
    "print(texto_desencriptado)"
   ],
   "metadata": {
    "collapsed": false,
    "ExecuteTime": {
     "end_time": "2024-02-16T13:59:31.393083500Z",
     "start_time": "2024-02-16T13:59:31.387066500Z"
    }
   }
  },
  {
   "cell_type": "markdown",
   "source": [
    "### Medición de tiempo de operación\n",
    "Una de las ventajas de emplear programas para el encriptado es la velocidad. Mediremos el tiempo que tarda encriptar y desencriptar un mensaje largo. En este caso el mensaje de ejemplo es el poema de la lechera.\n",
    "Ya que el tiempo de cálculo es muy pequeño, se mide el tiempo que le toma al programa ejecutarse 100 veces. Luego se divide el tiempo total entre 100 para tener la cuenta de forma mas acertada.\n",
    "Se espera que cada iteración dure menos de medio milisegundo"
   ],
   "metadata": {
    "collapsed": false
   }
  },
  {
   "cell_type": "code",
   "execution_count": 50,
   "outputs": [
    {
     "name": "stdout",
     "output_type": "stream",
     "text": [
      "erase una vez una joven lechera que llevaba un cubo de leche en la cabeza, camino al mercado para venderla. durante el camino, la soñadora joven iba imaginando lo que podria lograr conseguir con la leche. penso que en primer lugar y con el dinero de la venta compraria un canasto de huevos, los cuales una vez eclosionaran le permitiria montar una pequeña granja de pollos. una vez estos crecieran podria venderlos, lo que le daria dinero para comprarse un lechon. una vez este creciera la venta del animal bastaria para comprarse una ternera, con la leche de la cual seguiria obteniendo beneficios y a su vez podria tener terneros. sin embargo, mientras iba pensando todas estas cosas la joven tropezo, lo que provoco que el cantaro cayera el suelo y se rompiera. y con el, sus expectativas hacia lo que podria haber hecho con ella\n",
      "\n",
      "Tiempo de encriptación y desendriptación de 100 ejecuciones: 0.0002450084686279297 segundos\n",
      "El tiempo de una iteración es: 0.24500846862792972 ms\n"
     ]
    }
   ],
   "source": [
    "import time\n",
    "\n",
    "mensaje = \"Érase una vez una joven lechera que llevaba un cubo de leche en la cabeza, camino al mercado para venderla. Durante el camino, la soñadora joven iba imaginando lo que podría lograr conseguir con la leche. Pensó que en primer lugar y con el dinero de la venta compraría un canasto de huevos, los cuales una vez eclosionaran le permitiría montar una pequeña granja de pollos. Una vez estos crecieran podría venderlos, lo que le daría dinero para comprarse un lechón. Una vez este creciera la venta del animal bastaría para comprarse una ternera, con la leche de la cual seguiría obteniendo beneficios y a su vez podría tener terneros. Sin embargo, mientras iba pensando todas estas cosas la joven tropezó, lo que provocó que el cántaro cayera el suelo y se rompiera. Y con él, sus expectativas hacia lo que podría haber hecho con ella\"\n",
    "inicio = time.time()\n",
    "clave = 10\n",
    "for i in range(100):\n",
    "    texto_encriptado = encriptar_cesar(mensaje, clave)\n",
    "    texto_desencriptado = encriptar_cesar(texto_encriptado, longitud_alfabeto - clave)\n",
    "fin = time.time()\n",
    "print(texto_desencriptado)\n",
    "tiempo = (fin - inicio)/100.0\n",
    "print(f\"\\nTiempo de encriptación y desendriptación de 100 ejecuciones: {tiempo} segundos\")\n",
    "print(f\"El tiempo de una iteración es: {tiempo*1000} ms\")"
   ],
   "metadata": {
    "collapsed": false,
    "ExecuteTime": {
     "end_time": "2024-02-16T13:59:31.728737100Z",
     "start_time": "2024-02-16T13:59:31.691467300Z"
    }
   }
  },
  {
   "cell_type": "markdown",
   "source": [
    "## Análisis de la seguridad del cifrado\n",
    "Para determinar qué tan seguro es un cifrado mediremos qué tanto nos tardamos mediante fuerza bruta en realizar el desencriptado.\n",
    "Es decir, intentaremos decodificar el mensaje probando todas las combinaciones, que en el cifrado cesar son solo 27 (la longitud del alfabeto)\n",
    "La unica desventaja es que hay que observar cada uno de los 2 textos para saber cual es el decodificado. Como ejercicio en clase se propone emplear el diccionario de palabras\n",
    "https://raw.githubusercontent.com/words/an-array-of-spanish-words/master/index.json que permite comparar si una palabra pertenece al diccionario.\n",
    "En ese caso, el programa solo mostrará la combinación que corresponde a la solución del problema facilitando la decodificación.\n"
   ],
   "metadata": {
    "collapsed": false
   }
  },
  {
   "cell_type": "code",
   "execution_count": 53,
   "outputs": [
    {
     "name": "stdout",
     "output_type": "stream",
     "text": [
      "Con la clave 1 el texto es: najbn dvj eni dvj rxenv tnlpnaj zdn ttnejkj dv ldkx mn tnlpn nv tj ljknij, ljuqvx jt unaljmx yjaj envmnatj. mdajvcn nt ljuqvx, tj bxwjmxaj rxenv qkj qujoqvjvmx tx zdn yxmaqj txoaja lxvbnodqa lxv tj tnlpn. ynvbx zdn nv yaquna tdoja h lxv nt mqvnax mn tj envcj lxuyajaqj dv ljvjbcx mn pdnexb, txb ldjtnb dvj eni nltxbqxvjajv tn ynauqcqaqj uxvcja dvj ynzdnwj oajvrj mn yxttxb. dvj eni nbcxb lanlqnajv yxmaqj envmnatxb, tx zdn tn mjaqj mqvnax yjaj lxuyajabn dv tnlpxv. dvj eni nbcn lanlqnaj tj envcj mnt jvqujt kjbcjaqj yjaj lxuyajabn dvj cnavnaj, lxv tj tnlpn mn tj ldjt bnodqaqj xkcnvqnvmx knvnñqlqxb h j bd eni yxmaqj cnvna cnavnaxb. bqv nukjaox, uqnvcajb qkj ynvbjvmx cxmjb nbcjb lxbjb tj rxenv caxynix, tx zdn yaxexlx zdn nt ljvcjax ljhnaj nt bdntx h bn axuyqnaj. h lxv nt, bdb ngynlcjcqejb pjlqj tx zdn yxmaqj pjkna pnlpx lxv nttj\n",
      "Con la clave 2 el texto es: mziam cui dmh cui qwdmu smkomzi ycm ssmdiji cu kcjw lm smkom mu si kijmhi, kitpuw is tmzkilw xizi dmulmzsi. lcziubm ms kitpuw, si awvilwzi qwdmu pji ptiñpuiulw sw ycm xwlzpi swñziz kwuamñcpz kwu si smkom. xmuaw ycm mu xzptmz scñiz g kwu ms lpumzw lm si dmubi kwtxzizpi cu kiuiabw lm ocmdwa, swa kcisma cui dmh mkswapwuiziu sm xmztpbpzpi twubiz cui xmycmvi ñziuqi lm xwsswa. cui dmh mabwa kzmkpmziu xwlzpi dmulmzswa, sw ycm sm lizpi lpumzw xizi kwtxzizam cu smkowu. cui dmh mabm kzmkpmzi si dmubi lms iuptis jiabizpi xizi kwtxzizam cui bmzumzi, kwu si smkom lm si kcis amñcpzpi wjbmupmulw jmumnpkpwa g i ac dmh xwlzpi bmumz bmzumzwa. apu mtjizñw, tpmubzia pji xmuaiulw bwlia mabia kwaia si qwdmu bzwxmhw, sw ycm xzwdwkw ycm ms kiubizw kigmzi ms acmsw g am zwtxpmzi. g kwu ms, aca mfxmkbibpdia oikpi sw ycm xwlzpi oijmz omkow kwu mssi\n",
      "Con la clave 3 el texto es: lyhzl bth clg bth pvclt rljñlyh xbl rrlchih bt jbiv kl rljñl lt rh jhilgh, jhsotv hr slyjhkv whyh cltklyrh. kbyhtal lr jhsotv, rh zvuhkvyh pvclt oih oshnothtkv rv xbl wvkyoh rvnyhy jvtzlnboy jvt rh rljñl. wltzv xbl lt wyosly rbnhy f jvt lr kotlyv kl rh cltah jvswyhyoh bt jhthzav kl ñblcvz, rvz jbhrlz bth clg ljrvzovthyht rl wlysoaoyoh svtahy bth wlxbluh nyhtph kl wvrrvz. bth clg lzavz jyljolyht wvkyoh cltklyrvz, rv xbl rl khyoh kotlyv whyh jvswyhyzl bt rljñvt. bth clg lzal jyljolyh rh cltah klr htoshr ihzahyoh whyh jvswyhyzl bth alytlyh, jvt rh rljñl kl rh jbhr zlnboyoh vialtoltkv iltlmojovz f h zb clg wvkyoh altly alytlyvz. zot lsihynv, soltayhz oih wltzhtkv avkhz lzahz jvzhz rh pvclt ayvwlgv, rv xbl wyvcvjv xbl lr jhtahyv jhflyh lr zblrv f zl yvswolyh. f jvt lr, zbz lewljahaochz ñhjoh rv xbl wvkyoh ñhily ñljñv jvt lrrh\n",
      "Con la clave 4 el texto es: kxgyk asg bkf asg oubks qkinkxg wak qqkbghg as iahu jk qkink ks qg ighkfg, igrñsu gq rkxigju vgxg bksjkxqg. jaxgszk kq igrñsu, qg yutgjuxg oubks ñhg ñrgmñsgsju qu wak vujxñg qumxgx iusykmañx ius qg qkink. vksyu wak ks vxñrkx qamgx e ius kq jñskxu jk qg bkszg iurvxgxñg as igsgyzu jk nakbuy, quy iagqky asg bkf kiquyñusgxgs qk vkxrñzñxñg ruszgx asg vkwaktg mxgsog jk vuqquy. asg bkf kyzuy ixkiñkxgs vujxñg bksjkxquy, qu wak qk jgxñg jñskxu vgxg iurvxgxyk as qkinus. asg bkf kyzk ixkiñkxg qg bkszg jkq gsñrgq hgyzgxñg vgxg iurvxgxyk asg zkxskxg, ius qg qkink jk qg iagq ykmañxñg uhzksñksju hksklñiñuy e g ya bkf vujxñg zkskx zkxskxuy. yñs krhgxmu, rñkszxgy ñhg vksygsju zujgy kyzgy iuygy qg oubks zxuvkfu, qu wak vxubuiu wak kq igszgxu igekxg kq yakqu e yk xurvñkxg. e ius kq, yay kdvkizgzñbgy ngiñg qu wak vujxñg nghkx nkinu ius kqqg\n",
      "Con la clave 5 el texto es: jwfxj zrf aje zrf ñtajr pjhmjwf vzj ppjafgf zr hzgt ij pjhmj jr pf hfgjef, hfqnrt fp qjwhfit ufwf ajrijwpf. izwfryj jp hfqnrt, pf xtsfitwf ñtajr ngf nqflnrfrit pt vzj utiwnf ptlwfw htrxjlznw htr pf pjhmj. ujrxt vzj jr uwnqjw pzlfw d htr jp inrjwt ij pf ajryf htquwfwnf zr hfrfxyt ij mzjatx, ptx hzfpjx zrf aje jhptxntrfwfr pj ujwqnynwnf qtryfw zrf ujvzjsf lwfrñf ij utpptx. zrf aje jxytx hwjhnjwfr utiwnf ajrijwptx, pt vzj pj ifwnf inrjwt ufwf htquwfwxj zr pjhmtr. zrf aje jxyj hwjhnjwf pf ajryf ijp frnqfp gfxyfwnf ufwf htquwfwxj zrf yjwrjwf, htr pf pjhmj ij pf hzfp xjlznwnf tgyjrnjrit gjrjknhntx d f xz aje utiwnf yjrjw yjwrjwtx. xnr jqgfwlt, qnjrywfx ngf ujrxfrit ytifx jxyfx htxfx pf ñtajr ywtujet, pt vzj uwtatht vzj jp hfryfwt hfdjwf jp xzjpt d xj wtqunjwf. d htr jp, xzx jcujhyfynafx mfhnf pt vzj utiwnf mfgjw mjhmt htr jppf\n",
      "Con la clave 6 el texto es: ivewi yqe zid yqe nsziq oiglive uyi ooizefe yq gyfs hi oigli iq oe gefide, gepmqs eo pivgehs teve ziqhivoe. hyveqxi io gepmqs, oe wsrehsve nsziq mfe mpekmqeqhs os uyi tshvme oskvev gsqwikymv gsq oe oigli. tiqws uyi iq tvmpiv oykev c gsq io hmqivs hi oe ziqxe gsptvevme yq geqewxs hi lyizsw, osw gyeoiw yqe zid igoswmsqeveq oi tivpmxmvme psqxev yqe tiuyire kveqne hi tsoosw. yqe zid iwxsw gvigmiveq tshvme ziqhivosw, os uyi oi hevme hmqivs teve gsptvevwi yq oiglsq. yqe zid iwxi gvigmive oe ziqxe hio eqmpeo fewxevme teve gsptvevwi yqe xivqive, gsq oe oigli hi oe gyeo wikymvme sfxiqmiqhs fiqijmgmsw c e wy zid tshvme xiqiv xivqivsw. wmq ipfevks, pmiqxvew mfe tiqweqhs xshew iwxew gswew oe nsziq xvstids, os uyi tvszsgs uyi io geqxevs gecive io wyios c wi vsptmive. c gsq io, wyw ibtigxexmzew legme os uyi tshvme lefiv ligls gsq iooe\n",
      "Con la clave 7 el texto es: hudvh xpd yhc xpd mryhp ñhfkhud txh ññhyded xp fxer gh ñhfkh hp ñd fdehcd, fdolpr dñ ohufdgr sdud yhpghuñd. gxudpwh hñ fdolpr, ñd vrqdgrud mryhp led lodjlpdpgr ñr txh srguld ñrjudu frpvhjxlu frp ñd ñhfkh. shpvr txh hp sulohu ñxjdu b frp hñ glphur gh ñd yhpwd frosuduld xp fdpdvwr gh kxhyrv, ñrv fxdñhv xpd yhc hfñrvlrpdudp ñh shuolwluld orpwdu xpd shtxhqd judpmd gh srññrv. xpd yhc hvwrv fuhflhudp srguld yhpghuñrv, ñr txh ñh gduld glphur sdud frosuduvh xp ñhfkrp. xpd yhc hvwh fuhflhud ñd yhpwd ghñ dplodñ edvwduld sdud frosuduvh xpd whuphud, frp ñd ñhfkh gh ñd fxdñ vhjxluld rewhplhpgr ehphilflrv b d vx yhc srguld whphu whuphurv. vlp hoedujr, olhpwudv led shpvdpgr wrgdv hvwdv frvdv ñd mryhp wurshcr, ñr txh suryrfr txh hñ fdpwdur fdbhud hñ vxhñr b vh uroslhud. b frp hñ, vxv hashfwdwlydv kdfld ñr txh srguld kdehu khfkr frp hññd\n",
      "Con la clave 8 el texto es: gtcug woc xgb woc lqxgo ngejgtc swg nngxcdc wo ewdq fg ngejg go nc ecdgbc, ecñkoq cn ñgtecfq rctc xgofgtnc. fwtcovg gn ecñkoq, nc uqpcfqtc lqxgo kdc kñcikocofq nq swg rqftkc nqitct eqougiwkt eqo nc ngejg. rgouq swg go rtkñgt nwict a eqo gn fkogtq fg nc xgovc eqñrtctkc wo ecocuvq fg jwgxqu, nqu ewcngu woc xgb genqukqoctco ng rgtñkvktkc ñqovct woc rgswgpc itcolc fg rqnnqu. woc xgb guvqu etgekgtco rqftkc xgofgtnqu, nq swg ng fctkc fkogtq rctc eqñrtctug wo ngejqo. woc xgb guvg etgekgtc nc xgovc fgn cokñcn dcuvctkc rctc eqñrtctug woc vgtogtc, eqo nc ngejg fg nc ewcn ugiwktkc qdvgokgofq dgoghkekqu a c uw xgb rqftkc vgogt vgtogtqu. uko gñdctiq, ñkgovtcu kdc rgoucofq vqfcu guvcu equcu nc lqxgo vtqrgbq, nq swg rtqxqeq swg gn ecovctq ecagtc gn uwgnq a ug tqñrkgtc. a eqo gn, uwu gzrgevcvkxcu jcekc nq swg rqftkc jcdgt jgejq eqo gnnc\n",
      "Con la clave 9 el texto es: fsbtf vñb wfa vñb kpwfñ mfdifsb rvf mmfwbcb vñ dvcp ef mfdif fñ mb dbcfab, dbnjñp bm nfsdbep qbsb wfñefsmb. evsbñuf fm dbnjñp, mb tpobepsb kpwfñ jcb jnbhjñbñep mp rvf qpesjb mphsbs dpñtfhvjs dpñ mb mfdif. qfñtp rvf fñ qsjnfs mvhbs z dpñ fm ejñfsp ef mb wfñub dpnqsbsjb vñ dbñbtup ef ivfwpt, mpt dvbmft vñb wfa fdmptjpñbsbñ mf qfsnjujsjb npñubs vñb qfrvfob hsbñkb ef qpmmpt. vñb wfa ftupt dsfdjfsbñ qpesjb wfñefsmpt, mp rvf mf ebsjb ejñfsp qbsb dpnqsbstf vñ mfdipñ. vñb wfa ftuf dsfdjfsb mb wfñub efm bñjnbm cbtubsjb qbsb dpnqsbstf vñb ufsñfsb, dpñ mb mfdif ef mb dvbm tfhvjsjb pcufñjfñep cfñfgjdjpt z b tv wfa qpesjb ufñfs ufsñfspt. tjñ fncbshp, njfñusbt jcb qfñtbñep upebt ftubt dptbt mb kpwfñ uspqfap, mp rvf qspwpdp rvf fm dbñubsp dbzfsb fm tvfmp z tf spnqjfsb. z dpñ fm, tvt fyqfdubujwbt ibdjb mp rvf qpesjb ibcfs ifdip dpñ fmmb\n",
      "Con la clave 10 el texto es: erase una vez una joven lechera que llevaba un cubo de leche en la cabeza, camino al mercado para venderla. durante el camino, la soñadora joven iba imaginando lo que podria lograr conseguir con la leche. penso que en primer lugar y con el dinero de la venta compraria un canasto de huevos, los cuales una vez eclosionaran le permitiria montar una pequeña granja de pollos. una vez estos crecieran podria venderlos, lo que le daria dinero para comprarse un lechon. una vez este creciera la venta del animal bastaria para comprarse una ternera, con la leche de la cual seguiria obteniendo beneficios y a su vez podria tener terneros. sin embargo, mientras iba pensando todas estas cosas la joven tropezo, lo que provoco que el cantaro cayera el suelo y se rompiera. y con el, sus expectativas hacia lo que podria haber hecho con ella\n",
      "Con la clave 11 el texto es: dqzrd tmz udy tmz iñudm kdbgdqz ptd kkduzaz tm btañ cd kdbgd dm kz bzadyz, bzlhmñ zk ldqbzcñ ozqz udmcdqkz. ctqzmsd dk bzlhmñ, kz rñnzcñqz iñudm haz hlzfhmzmcñ kñ ptd oñcqhz kñfqzq bñmrdfthq bñm kz kdbgd. odmrñ ptd dm oqhldq ktfzq x bñm dk chmdqñ cd kz udmsz bñloqzqhz tm bzmzrsñ cd gtduñr, kñr btzkdr tmz udy dbkñrhñmzqzm kd odqlhshqhz lñmszq tmz odptdnz fqzmiz cd oñkkñr. tmz udy drsñr bqdbhdqzm oñcqhz udmcdqkñr, kñ ptd kd czqhz chmdqñ ozqz bñloqzqrd tm kdbgñm. tmz udy drsd bqdbhdqz kz udmsz cdk zmhlzk azrszqhz ozqz bñloqzqrd tmz sdqmdqz, bñm kz kdbgd cd kz btzk rdfthqhz ñasdmhdmcñ admdehbhñr x z rt udy oñcqhz sdmdq sdqmdqñr. rhm dlazqfñ, lhdmsqzr haz odmrzmcñ sñczr drszr bñrzr kz iñudm sqñodyñ, kñ ptd oqñuñbñ ptd dk bzmszqñ bzxdqz dk rtdkñ x rd qñlohdqz. x bñm dk, rtr dwodbszshuzr gzbhz kñ ptd oñcqhz gzadq gdbgñ bñm dkkz\n",
      "Con la clave 12 el texto es: cpyqc sly tcx sly hntcl jcafcpy osc jjctyzy sl aszn bc jcafc cl jy ayzcxy, aykgln yj kcpaybn ñypy tclbcpjy. bspylrc cj aykgln, jy qnmybnpy hntcl gzy gkyeglylbn jn osc ñnbpgy jnepyp anlqcesgp anl jy jcafc. ñclqn osc cl ñpgkcp jseyp w anl cj bglcpn bc jy tclry ankñpypgy sl aylyqrn bc fsctnq, jnq asyjcq sly tcx cajnqgnlypyl jc ñcpkgrgpgy knlryp sly ñcoscmy epylhy bc ñnjjnq. sly tcx cqrnq apcagcpyl ñnbpgy tclbcpjnq, jn osc jc bypgy bglcpn ñypy ankñpypqc sl jcafnl. sly tcx cqrc apcagcpy jy tclry bcj ylgkyj zyqrypgy ñypy ankñpypqc sly rcplcpy, anl jy jcafc bc jy asyj qcesgpgy nzrclgclbn zclcdgagnq w y qs tcx ñnbpgy rclcp rcplcpnq. qgl ckzypen, kgclrpyq gzy ñclqylbn rnbyq cqryq anqyq jy hntcl rpnñcxn, jn osc ñpntnan osc cj aylrypn aywcpy cj qscjn w qc pnkñgcpy. w anl cj, qsq cvñcaryrgtyq fyagy jn osc ñnbpgy fyzcp fcafn anl cjjy\n",
      "Con la clave 13 el texto es: boxpb rkx sbw rkx gmsbk ibzebox ñrb iibsxyx rk zrym ab ibzeb bk ix zxybwx, zxjfkm xi jbozxam nxox sbkaboix. aroxkqb bi zxjfkm, ix pmlxamox gmsbk fyx fjxdfkxkam im ñrb nmaofx imdoxo zmkpbdrfo zmk ix ibzeb. nbkpm ñrb bk nofjbo irdxo v zmk bi afkbom ab ix sbkqx zmjnoxofx rk zxkxpqm ab erbsmp, imp zrxibp rkx sbw bzimpfmkxoxk ib nbojfqfofx jmkqxo rkx nbñrblx doxkgx ab nmiimp. rkx sbw bpqmp zobzfboxk nmaofx sbkaboimp, im ñrb ib axofx afkbom nxox zmjnoxopb rk ibzemk. rkx sbw bpqb zobzfbox ix sbkqx abi xkfjxi yxpqxofx nxox zmjnoxopb rkx qbokbox, zmk ix ibzeb ab ix zrxi pbdrfofx myqbkfbkam ybkbcfzfmp v x pr sbw nmaofx qbkbo qbokbomp. pfk bjyxodm, jfbkqoxp fyx nbkpxkam qmaxp bpqxp zmpxp ix gmsbk qomnbwm, im ñrb nomsmzm ñrb bi zxkqxom zxvbox bi prbim v pb omjnfbox. v zmk bi, prp bunbzqxqfsxp exzfx im ñrb nmaofx exybo ebzem zmk biix\n",
      "Con la clave 14 el texto es: añwoa qjw rav qjw flraj haydañw nqa hharwxw qj yqxl za hayda aj hw ywxavw, ywiejl wh iañywzl mwñw rajzañhw. zqñwjpa ah ywiejl, hw olkwzlñw flraj exw eiwcejwjzl hl nqa mlzñew hlcñwñ yljoacqeñ ylj hw hayda. majol nqa aj mñeiañ hqcwñ u ylj ah zejañl za hw rajpw ylimñwñew qj ywjwopl za dqarlo, hlo yqwhao qjw rav ayhloeljwñwj ha mañiepeñew iljpwñ qjw manqakw cñwjfw za mlhhlo. qjw rav aoplo yñayeañwj mlzñew rajzañhlo, hl nqa ha zwñew zejañl mwñw ylimñwñoa qj haydlj. qjw rav aopa yñayeañw hw rajpw zah wjeiwh xwopwñew mwñw ylimñwñoa qjw pañjañw, ylj hw hayda za hw yqwh oacqeñew lxpajeajzl xajabeyelo u w oq rav mlzñew pajañ pañjañlo. oej aixwñcl, ieajpñwo exw majowjzl plzwo aopwo ylowo hw flraj pñlmavl, hl nqa mñlrlyl nqa ah ywjpwñl ywuañw ah oqahl u oa ñlimeañw. u ylj ah, oqo atmaypwperwo dwyew hl nqa mlzñew dwxañ daydl ylj ahhw\n",
      "Con la clave 15 el texto es: znvñz piv qzu piv ekqzi gzxcznv mpz ggzqvwv pi xpwk yz gzxcz zi gv xvwzuv, xvhdik vg hznxvyk lvnv qziyzngv. ypnvioz zg xvhdik, gv ñkjvyknv ekqzi dwv dhvbdiviyk gk mpz lkyndv gkbnvn xkiñzbpdn xki gv gzxcz. lziñk mpz zi lndhzn gpbvn t xki zg ydiznk yz gv qziov xkhlnvndv pi xvivñok yz cpzqkñ, gkñ xpvgzñ piv qzu zxgkñdkivnvi gz lznhdodndv hkiovn piv lzmpzjv bnviev yz lkggkñ. piv qzu zñokñ xnzxdznvi lkyndv qziyzngkñ, gk mpz gz yvndv ydiznk lvnv xkhlnvnñz pi gzxcki. piv qzu zñoz xnzxdznv gv qziov yzg vidhvg wvñovndv lvnv xkhlnvnñz piv ozniznv, xki gv gzxcz yz gv xpvg ñzbpdndv kwozidziyk wzizadxdkñ t v ñp qzu lkyndv ozizn ozniznkñ. ñdi zhwvnbk, hdzionvñ dwv lziñviyk okyvñ zñovñ xkñvñ gv ekqzi onklzuk, gk mpz lnkqkxk mpz zg xviovnk xvtznv zg ñpzgk t ñz nkhldznv. t xki zg, ñpñ zslzxovodqvñ cvxdv gk mpz lkyndv cvwzn czxck xki zggv\n",
      "Con la clave 16 el texto es: ymuny ohu pyt ohu djpyh fywbymu loy ffypuvu oh wovj xy fywby yh fu wuvytu, wugchj uf gymwuxj kumu pyhxymfu. xomuhñy yf wugchj, fu njiuxjmu djpyh cvu cguachuhxj fj loy kjxmcu fjamum wjhnyaocm wjh fu fywby. kyhnj loy yh kmcgym foaum s wjh yf xchymj xy fu pyhñu wjgkmumcu oh wuhunñj xy boypjn, fjn woufyn ohu pyt ywfjncjhumuh fy kymgcñcmcu gjhñum ohu kyloyiu amuhdu xy kjffjn. ohu pyt ynñjn wmywcymuh kjxmcu pyhxymfjn, fj loy fy xumcu xchymj kumu wjgkmumny oh fywbjh. ohu pyt ynñy wmywcymu fu pyhñu xyf uhcguf vunñumcu kumu wjgkmumny ohu ñymhymu, wjh fu fywby xy fu wouf nyaocmcu jvñyhcyhxj vyhyzcwcjn s u no pyt kjxmcu ñyhym ñymhymjn. nch ygvumaj, gcyhñmun cvu kyhnuhxj ñjxun ynñun wjnun fu djpyh ñmjkytj, fj loy kmjpjwj loy yf wuhñumj wusymu yf noyfj s ny mjgkcymu. s wjh yf, non yrkywñuñcpun buwcu fj loy kjxmcu buvym bywbj wjh yffu\n",
      "Con la clave 17 el texto es: xltmx ñgt oxs ñgt cioxg exvaxlt kñx eexotut ñg vñui wx exvax xg et vtuxst, vtfbgi te fxlvtwi jtlt oxgwxlet. wñltgnx xe vtfbgi, et mihtwilt cioxg but bftzbgtgwi ei kñx jiwlbt eizltl vigmxzñbl vig et exvax. jxgmi kñx xg jlbfxl eñztl r vig xe wbgxli wx et oxgnt vifjltlbt ñg vtgtmni wx añxoim, eim vñtexm ñgt oxs xveimbigtltg ex jxlfbnblbt figntl ñgt jxkñxht zltgct wx jieeim. ñgt oxs xmnim vlxvbxltg jiwlbt oxgwxleim, ei kñx ex wtlbt wbgxli jtlt vifjltlmx ñg exvaig. ñgt oxs xmnx vlxvbxlt et oxgnt wxe tgbfte utmntlbt jtlt vifjltlmx ñgt nxlgxlt, vig et exvax wx et vñte mxzñblbt iunxgbxgwi uxgxybvbim r t mñ oxs jiwlbt nxgxl nxlgxlim. mbg xfutlzi, fbxgnltm but jxgmtgwi niwtm xmntm vimtm et cioxg nlijxsi, ei kñx jlioivi kñx xe vtgntli vtrxlt xe mñxei r mx lifjbxlt. r vig xe, mñm xqjxvntnbotm atvbt ei kñx jiwlbt atuxl axvai vig xeet\n",
      "Con la clave 18 el texto es: wkslw nfs ñwr nfs bhñwf dwuzwks jnw ddwñsts nf unth vw dwuzw wf ds ustwrs, useafh sd ewkusvh isks ñwfvwkds. vnksfmw wd useafh, ds lhgsvhks bhñwf ats aesyafsfvh dh jnw ihvkas dhyksk uhflwynak uhf ds dwuzw. iwflh jnw wf ikaewk dnysk q uhf wd vafwkh vw ds ñwfms uheikskas nf usfslmh vw znwñhl, dhl unsdwl nfs ñwr wudhlahfsksf dw iwkeamakas ehfmsk nfs iwjnwgs yksfbs vw ihddhl. nfs ñwr wlmhl ukwuawksf ihvkas ñwfvwkdhl, dh jnw dw vskas vafwkh isks uheiksklw nf dwuzhf. nfs ñwr wlmw ukwuawks ds ñwfms vwd sfaesd tslmskas isks uheiksklw nfs mwkfwks, uhf ds dwuzw vw ds unsd lwynakas htmwfawfvh twfwxauahl q s ln ñwr ihvkas mwfwk mwkfwkhl. laf wetskyh, eawfmksl ats iwflsfvh mhvsl wlmsl uhlsl ds bhñwf mkhiwrh, dh jnw ikhñhuh jnw wd usfmskh usqwks wd lnwdh q lw kheiawks. q uhf wd, lnl wpiwumsmañsl zsuas dh jnw ihvkas zstwk zwuzh uhf wdds\n",
      "Con la clave 19 el texto es: vjrkv mer nvq mer agnve cvtyvjr imv ccvnrsr me tmsg uv cvtyv ve cr trsvqr, trdzeg rc dvjtrug hrjr nveuvjcr. umjrelv vc trdzeg, cr kgfrugjr agnve zsr zdrxzereug cg imv hgujzr cgxjrj tgekvxmzj tge cr cvtyv. hvekg imv ve hjzdvj cmxrj p tge vc uzevjg uv cr nvelr tgdhjrjzr me trerklg uv ymvngk, cgk tmrcvk mer nvq vtcgkzgerjre cv hvjdzlzjzr dgelrj mer hvimvfr xjrear uv hgccgk. mer nvq vklgk tjvtzvjre hgujzr nveuvjcgk, cg imv cv urjzr uzevjg hrjr tgdhjrjkv me cvtyge. mer nvq vklv tjvtzvjr cr nvelr uvc rezdrc srklrjzr hrjr tgdhjrjkv mer lvjevjr, tge cr cvtyv uv cr tmrc kvxmzjzr gslvezveug svevwztzgk p r km nvq hgujzr lvevj lvjevjgk. kze vdsrjxg, dzveljrk zsr hvekreug lgurk vklrk tgkrk cr agnve ljghvqg, cg imv hjgngtg imv vc trelrjg trpvjr vc kmvcg p kv jgdhzvjr. p tge vc, kmk vohvtlrlznrk yrtzr cg imv hgujzr yrsvj yvtyg tge vccr\n",
      "Con la clave 20 el texto es: uiqju ldq mup ldq zfmud busxuiq hlu bbumqrq ld slrf tu busxu ud bq sqrupq, sqcydf qb cuisqtf gqiq mudtuibq. tliqdku ub sqcydf, bq jfeqtfiq zfmud yrq ycqwydqdtf bf hlu gftiyq bfwiqi sfdjuwlyi sfd bq busxu. gudjf hlu ud giycui blwqi o sfd ub tyduif tu bq mudkq sfcgiqiyq ld sqdqjkf tu xlumfj, bfj slqbuj ldq mup usbfjyfdqiqd bu guicykyiyq cfdkqi ldq guhlueq wiqdzq tu gfbbfj. ldq mup ujkfj siusyuiqd gftiyq mudtuibfj, bf hlu bu tqiyq tyduif gqiq sfcgiqiju ld busxfd. ldq mup ujku siusyuiq bq mudkq tub qdycqb rqjkqiyq gqiq sfcgiqiju ldq kuiduiq, sfd bq busxu tu bq slqb juwlyiyq frkudyudtf ruduvysyfj o q jl mup gftiyq kudui kuiduifj. jyd ucrqiwf, cyudkiqj yrq gudjqdtf kftqj ujkqj sfjqj bq zfmud kifgupf, bf hlu gifmfsf hlu ub sqdkqif sqouiq ub jlubf o ju ifcgyuiq. o sfd ub, jlj uñguskqkymqj xqsyq bf hlu gftiyq xqrui xusxf sfd ubbq\n",
      "Con la clave 21 el texto es: thpit kcp lto kcp yeltc atrwthp gkt aatlpqp kc rkqe st atrwt tc ap rpqtop, rpbxce pa bthrpse fphp ltcsthap. skhpcjt ta rpbxce, ap iedpsehp yeltc xqp xbpvxcpcse ae gkt feshxp aevhph recitvkxh rec ap atrwt. ftcie gkt tc fhxbth akvph ñ rec ta sxcthe st ap ltcjp rebfhphxp kc rpcpije st wktlei, aei rkpati kcp lto traeixecphpc at fthbxjxhxp becjph kcp ftgktdp vhpcyp st feaaei. kcp lto tijei rhtrxthpc feshxp ltcsthaei, ae gkt at sphxp sxcthe fphp rebfhphit kc atrwec. kcp lto tijt rhtrxthp ap ltcjp sta pcxbpa qpijphxp fphp rebfhphit kcp jthcthp, rec ap atrwt st ap rkpa itvkxhxp eqjtcxtcse qtctuxrxei ñ p ik lto feshxp jtcth jthcthei. ixc tbqphve, bxtcjhpi xqp ftcipcse jespi tijpi reipi ap yeltc jheftoe, ae gkt fhelere gkt ta rpcjphe rpñthp ta iktae ñ it hebfxthp. ñ rec ta, iki tnftrjpjxlpi wprxp ae gkt feshxp wpqth wtrwe rec taap\n",
      "Con la clave 22 el texto es: sgohs jbo ksñ jbo xdksb zsqvsgo fjs zzskopo jb qjpd rs zsqvs sb zo qopsño, qoawbd oz asgqord eogo ksbrsgzo. rjgobis sz qoawbd, zo hdcordgo xdksb wpo waouwbobrd zd fjs edrgwo zdugog qdbhsujwg qdb zo zsqvs. esbhd fjs sb egwasg zjuog n qdb sz rwbsgd rs zo ksbio qdaegogwo jb qobohid rs vjskdh, zdh qjozsh jbo ksñ sqzdhwdbogob zs esgawiwgwo adbiog jbo esfjsco ugobxo rs edzzdh. jbo ksñ shidh qgsqwsgob edrgwo ksbrsgzdh, zd fjs zs rogwo rwbsgd eogo qdaegoghs jb zsqvdb. jbo ksñ shis qgsqwsgo zo ksbio rsz obwaoz pohiogwo eogo qdaegoghs jbo isgbsgo, qdb zo zsqvs rs zo qjoz hsujwgwo dpisbwsbrd psbstwqwdh n o hj ksñ edrgwo isbsg isgbsgdh. hwb sapogud, awsbigoh wpo esbhobrd idroh shioh qdhoh zo xdksb igdesñd, zd fjs egdkdqd fjs sz qobiogd qonsgo sz hjszd n hs gdaewsgo. n qdb sz, hjh smesqioiwkoh voqwo zd fjs edrgwo vopsg vsqvd qdb szzo\n",
      "Con la clave 23 el texto es: rfñgr iañ jrn iañ wcjra yrpurfñ eir yyrjñoñ ia pioc qr yrpur ra yñ pñornñ, pñzvac ñy zrfpñqc dñfñ jraqrfyñ. qifñahr ry pñzvac, yñ gcbñqcfñ wcjra voñ vzñtvañaqc yc eir dcqfvñ yctfñf pcagrtivf pca yñ yrpur. dragc eir ra dfvzrf yitñf m pca ry qvarfc qr yñ jrahñ pczdfñfvñ ia pñañghc qr uirjcg, ycg piñyrg iañ jrn rpycgvcañfña yr drfzvhvfvñ zcahñf iañ dreirbñ tfñawñ qr dcyycg. iañ jrn rghcg pfrpvrfña dcqfvñ jraqrfycg, yc eir yr qñfvñ qvarfc dñfñ pczdfñfgr ia yrpuca. iañ jrn rghr pfrpvrfñ yñ jrahñ qry ñavzñy oñghñfvñ dñfñ pczdfñfgr iañ hrfarfñ, pca yñ yrpur qr yñ piñy grtivfvñ cohravraqc orarsvpvcg m ñ gi jrn dcqfvñ hrarf hrfarfcg. gva rzoñftc, zvrahfñg voñ dragñaqc hcqñg rghñg pcgñg yñ wcjra hfcdrnc, yc eir dfcjcpc eir ry pñahñfc pñmrfñ ry giryc m gr fczdvrfñ. m pca ry, gig rldrphñhvjñg uñpvñ yc eir dcqfvñ uñorf urpuc pca ryyñ\n",
      "Con la clave 24 el texto es: qenfq hzn iqm hzn vbiqz xqotqen dhq xxqinñn hz ohñb pq xqotq qz xn onñqmn, onyuzb nx yqeonpb cnen iqzpqexn. phenzgq qx onyuzb, xn fbanpben vbiqz uñn uynsuznzpb xb dhq cbpeun xbsene obzfqshue obz xn xqotq. cqzfb dhq qz ceuyqe xhsne l obz qx puzqeb pq xn iqzgn obyceneun hz onznfgb pq thqibf, xbf ohnxqf hzn iqm qoxbfubznenz xq cqeyugueun ybzgne hzn cqdhqan senzvn pq cbxxbf. hzn iqm qfgbf oeqouqenz cbpeun iqzpqexbf, xb dhq xq pneun puzqeb cnen obycenefq hz xqotbz. hzn iqm qfgq oeqouqen xn iqzgn pqx nzuynx ñnfgneun cnen obycenefq hzn gqezqen, obz xn xqotq pq xn ohnx fqshueun bñgqzuqzpb ñqzqruoubf l n fh iqm cbpeun gqzqe gqezqebf. fuz qyñnesb, yuqzgenf uñn cqzfnzpb gbpnf qfgnf obfnf xn vbiqz gebcqmb, xb dhq cebibob dhq qx onzgneb onlqen qx fhqxb l fq ebycuqen. l obz qx, fhf qkcqognguinf tnoun xb dhq cbpeun tnñqe tqotb obz qxxn\n",
      "Con la clave 25 el texto es: pdmep gym hpl gym uahpy wpñspdm cgp wwphmnm gy ñgna op wpñsp py wm ñmnplm, ñmxtya mw xpdñmoa bmdm hpyopdwm. ogdmyfp pw ñmxtya, wm eazmoadm uahpy tnm txmrtymyoa wa cgp baodtm wardmd ñayeprgtd ñay wm wpñsp. bpyea cgp py bdtxpd wgrmd k ñay pw otypda op wm hpyfm ñaxbdmdtm gy ñmymefa op sgphae, wae ñgmwpe gym hpl pñwaetaymdmy wp bpdxtftdtm xayfmd gym bpcgpzm rdmyum op bawwae. gym hpl pefae ñdpñtpdmy baodtm hpyopdwae, wa cgp wp omdtm otypda bmdm ñaxbdmdep gy wpñsay. gym hpl pefp ñdpñtpdm wm hpyfm opw mytxmw nmefmdtm bmdm ñaxbdmdep gym fpdypdm, ñay wm wpñsp op wm ñgmw eprgtdtm anfpytpyoa npypqtñtae k m eg hpl baodtm fpypd fpdypdae. ety pxnmdra, xtpyfdme tnm bpyemyoa faome pefme ñaeme wm uahpy fdabpla, wa cgp bdahaña cgp pw ñmyfmda ñmkpdm pw egpwa k ep daxbtpdm. k ñay pw, ege pjbpñfmfthme smñtm wa cgp baodtm smnpd spñsa ñay pwwm\n",
      "Con la clave 26 el texto es: ocldo fxl gok fxl tzgox vonrocl bfo vvoglml fx nfmz ño vonro ox vl nlmokl, nlwsxz lv wocnlñz alcl goxñocvl. ñfclxeo ov nlwsxz, vl dzylñzcl tzgox sml swlqsxlxñz vz bfo azñcsl vzqclc nzxdoqfsc nzx vl vonro. aoxdz bfo ox acswoc vfqlc j nzx ov ñsxocz ño vl goxel nzwaclcsl fx nlxldez ño rfogzd, vzd nflvod fxl gok onvzdszxlclx vo aocwsescsl wzxelc fxl aobfoyl qclxtl ño azvvzd. fxl gok odezd nconsoclx azñcsl goxñocvzd, vz bfo vo ñlcsl ñsxocz alcl nzwaclcdo fx vonrzx. fxl gok odeo nconsocl vl goxel ñov lxswlv mldelcsl alcl nzwaclcdo fxl eocxocl, nzx vl vonro ño vl nflv doqfscsl zmeoxsoxñz moxopsnszd j l df gok azñcsl eoxoc eocxoczd. dsx owmlcqz, wsoxecld sml aoxdlxñz ezñld odeld nzdld vl tzgox eczaokz, vz bfo aczgznz bfo ov nlxelcz nljocl ov dfovz j do czwasocl. j nzx ov, dfd oiaonelesgld rlnsl vz bfo azñcsl rlmoc ronrz nzx ovvl\n",
      "Probando todas las combinaciones nos tardamos 0.0035719871520996094 s\n"
     ]
    }
   ],
   "source": [
    "# desencriptar recorriendo el alfabeto completo  y mostrando cada una de las 27 combinaciones\n",
    "inicio = time.time()\n",
    "for i in range(1, 27):\n",
    "    decodificado = encriptar_cesar(texto_encriptado, longitud_alfabeto - i)\n",
    "    print(f\"Con la clave {i} el texto es: {decodificado}\")\n",
    "fin = time.time()\n",
    "print(f\"Probando todas las combinaciones nos tardamos {fin-inicio} s\")"
   ],
   "metadata": {
    "collapsed": false,
    "ExecuteTime": {
     "end_time": "2024-02-16T14:00:55.780119600Z",
     "start_time": "2024-02-16T14:00:55.778108200Z"
    }
   }
  },
  {
   "cell_type": "code",
   "execution_count": 51,
   "outputs": [],
   "source": [],
   "metadata": {
    "collapsed": false,
    "ExecuteTime": {
     "end_time": "2024-02-16T13:59:32.631452Z",
     "start_time": "2024-02-16T13:59:32.619938400Z"
    }
   }
  },
  {
   "cell_type": "code",
   "execution_count": null,
   "outputs": [],
   "source": [],
   "metadata": {
    "collapsed": false
   }
  }
 ],
 "metadata": {
  "kernelspec": {
   "display_name": "Python 3",
   "language": "python",
   "name": "python3"
  },
  "language_info": {
   "codemirror_mode": {
    "name": "ipython",
    "version": 2
   },
   "file_extension": ".py",
   "mimetype": "text/x-python",
   "name": "python",
   "nbconvert_exporter": "python",
   "pygments_lexer": "ipython2",
   "version": "2.7.6"
  }
 },
 "nbformat": 4,
 "nbformat_minor": 0
}
