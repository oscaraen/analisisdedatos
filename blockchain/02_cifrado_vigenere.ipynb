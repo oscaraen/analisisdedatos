{
 "cells": [
  {
   "cell_type": "markdown",
   "source": [
    "## Análisis del Cifrado Vigenère\n",
    "\n",
    "Este es un algoritmo de cifrado poli alfabeto que incrementa la complejidad en comparación con los cifrados de un solo alfabeto como el César\n"
   ],
   "metadata": {
    "collapsed": false
   }
  },
  {
   "cell_type": "code",
   "execution_count": null,
   "outputs": [],
   "source": [
    "#include <ctype.h>\n",
    "#include <stdio.h>\n",
    "#include <string.h>\n",
    "void cifrarVigenere(char* texto, char* clave) {\n",
    "    int textoLen = strlen(texto), claveLen = strlen(clave), i, j;\n",
    "    char nuevaClave[textoLen], cifradoTexto[textoLen];\n",
    "    // Generar nueva clave en caso de que la longitud del texto original y la clave no coincidan\n",
    "    for(i = 0, j = 0; i < textoLen; ++i, ++j){\n",
    "        if(j == claveLen)\n",
    "            j = 0;\n",
    "        nuevaClave[i] = clave[j];\n",
    "    }\n",
    "    nuevaClave[i] = '\\0';\n",
    "    // Cifrado\n",
    "    for(i = 0; i < textoLen; ++i)\n",
    "        cifradoTexto[i] = ((texto[i] + nuevaClave[i]) % 26) + 'A';\n",
    "    cifradoTexto[i] = '\\0';\n",
    "    printf(\"Texto cifrado: %s\\n\", cifradoTexto);\n",
    "}\n",
    "int main() {\n",
    "    char texto[] = \"TEXTOPLANO\";\n",
    "    char clave[] = \"CLAVE\";\n",
    "    cifrarVigenere(texto, clave);\n",
    "    return 0;\n",
    "}"
   ],
   "metadata": {
    "collapsed": false
   }
  }
 ],
 "metadata": {
  "kernelspec": {
   "display_name": "Python 3",
   "language": "python",
   "name": "python3"
  },
  "language_info": {
   "codemirror_mode": {
    "name": "ipython",
    "version": 2
   },
   "file_extension": ".py",
   "mimetype": "text/x-python",
   "name": "python",
   "nbconvert_exporter": "python",
   "pygments_lexer": "ipython2",
   "version": "2.7.6"
  }
 },
 "nbformat": 4,
 "nbformat_minor": 0
}
